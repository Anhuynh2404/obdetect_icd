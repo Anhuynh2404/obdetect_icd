{
 "cells": [
  {
   "cell_type": "code",
   "execution_count": 2,
   "id": "86a8cd4a",
   "metadata": {},
   "outputs": [
    {
     "ename": "TypeError",
     "evalue": "load_config() missing 1 required positional argument: 'args_cfg'",
     "output_type": "error",
     "traceback": [
      "\u001b[0;31m---------------------------------------------------------------------------\u001b[0m",
      "\u001b[0;31mTypeError\u001b[0m                                 Traceback (most recent call last)",
      "Cell \u001b[0;32mIn[2], line 12\u001b[0m\n\u001b[1;32m      2\u001b[0m \u001b[38;5;28;01mfrom\u001b[39;00m \u001b[38;5;21;01mnanodet\u001b[39;00m\u001b[38;5;21;01m.\u001b[39;00m\u001b[38;5;21;01mmodel\u001b[39;00m\u001b[38;5;21;01m.\u001b[39;00m\u001b[38;5;21;01march\u001b[39;00m \u001b[38;5;28;01mimport\u001b[39;00m build_model\n\u001b[1;32m      3\u001b[0m \u001b[38;5;28;01mfrom\u001b[39;00m \u001b[38;5;21;01mnanodet\u001b[39;00m\u001b[38;5;21;01m.\u001b[39;00m\u001b[38;5;21;01mutil\u001b[39;00m \u001b[38;5;28;01mimport\u001b[39;00m (\n\u001b[1;32m      4\u001b[0m     NanoDetLightningLogger,\n\u001b[1;32m      5\u001b[0m     cfg,\n\u001b[0;32m   (...)\u001b[0m\n\u001b[1;32m     10\u001b[0m     mkdir,\n\u001b[1;32m     11\u001b[0m )\n\u001b[0;32m---> 12\u001b[0m cfg \u001b[38;5;241m=\u001b[39m \u001b[43mload_config\u001b[49m\u001b[43m(\u001b[49m\u001b[38;5;124;43m\"\u001b[39;49m\u001b[38;5;124;43m/home/an/an_workplace/ICD/obdetect_icd/config/nanodet-plus-m_416.yml\u001b[39;49m\u001b[38;5;124;43m\"\u001b[39;49m\u001b[43m)\u001b[49m\n\u001b[1;32m     13\u001b[0m model \u001b[38;5;241m=\u001b[39m build_model(cfg\u001b[38;5;241m.\u001b[39mmodel)\n\u001b[1;32m     15\u001b[0m \u001b[38;5;66;03m# Load checkpoint\u001b[39;00m\n",
      "\u001b[0;31mTypeError\u001b[0m: load_config() missing 1 required positional argument: 'args_cfg'"
     ]
    }
   ],
   "source": [
    "import torch\n",
    "from nanodet.model.arch import build_model\n",
    "from nanodet.util import (\n",
    "    NanoDetLightningLogger,\n",
    "    cfg,\n",
    "    convert_old_model,\n",
    "    env_utils,\n",
    "    load_config,\n",
    "    load_model_weight,\n",
    "    mkdir,\n",
    ")\n",
    "cfg = load_config(\"/home/an/an_workplace/ICD/obdetect_icd/config/nanodet-plus-m_416.yml\")\n",
    "model = build_model(cfg.model)\n",
    "\n",
    "# Load checkpoint\n",
    "ckpt = torch.load(\"/home/an/an_workplace/ICD/obdetect_icd/data/nanodet-plus-m_416.pth\", map_location='cpu')\n",
    "model.load_state_dict(ckpt['state_dict'])\n",
    "model.eval()\n",
    "\n",
    "# Dummy input (giả lập ảnh input)\n",
    "example = torch.rand(1, 3, 320, 320)  # CxHxW theo đúng size input của NanoDet\n",
    "\n",
    "# Dùng tracing để xuất mô hình\n",
    "traced_script_module = torch.jit.trace(model, example)\n",
    "traced_script_module.save(\"nanodet_model.pt\")\n"
   ]
  },
  {
   "cell_type": "code",
   "execution_count": 3,
   "id": "59d3b784",
   "metadata": {},
   "outputs": [
    {
     "ename": "TypeError",
     "evalue": "load_config() missing 1 required positional argument: 'args_cfg'",
     "output_type": "error",
     "traceback": [
      "\u001b[0;31m---------------------------------------------------------------------------\u001b[0m",
      "\u001b[0;31mTypeError\u001b[0m                                 Traceback (most recent call last)",
      "Cell \u001b[0;32mIn[3], line 16\u001b[0m\n\u001b[1;32m     13\u001b[0m cfg_path \u001b[38;5;241m=\u001b[39m \u001b[38;5;124m\"\u001b[39m\u001b[38;5;124m/home/an/an_workplace/ICD/obdetect_icd/config/nanodet-plus-m_416.yml\u001b[39m\u001b[38;5;124m\"\u001b[39m\n\u001b[1;32m     15\u001b[0m args_cfg \u001b[38;5;241m=\u001b[39m Args(cfg_path)\n\u001b[0;32m---> 16\u001b[0m cfg \u001b[38;5;241m=\u001b[39m \u001b[43mload_config\u001b[49m\u001b[43m(\u001b[49m\u001b[43margs_cfg\u001b[49m\u001b[43m)\u001b[49m\n\u001b[1;32m     18\u001b[0m \u001b[38;5;66;03m# Tạo model\u001b[39;00m\n\u001b[1;32m     19\u001b[0m model \u001b[38;5;241m=\u001b[39m build_model(cfg\u001b[38;5;241m.\u001b[39mmodel)\n",
      "\u001b[0;31mTypeError\u001b[0m: load_config() missing 1 required positional argument: 'args_cfg'"
     ]
    }
   ],
   "source": [
    "import argparse\n",
    "from nanodet.util import load_config\n",
    "from nanodet.model.arch import build_model\n",
    "import torch\n",
    "\n",
    "# Tạo đối tượng args giả lập như khi chạy bằng CLI\n",
    "class Args:\n",
    "    def __init__(self, cfg_path):\n",
    "        self.config = cfg_path\n",
    "        self.opts = None\n",
    "\n",
    "# Đường dẫn tới file cấu hình YAML\n",
    "cfg_path = \"/home/an/an_workplace/ICD/obdetect_icd/config/nanodet-plus-m_416.yml\"\n",
    "\n",
    "args_cfg = Args(cfg_path)\n",
    "cfg = load_config(args_cfg)\n",
    "\n",
    "# Tạo model\n",
    "model = build_model(cfg.model)\n",
    "\n",
    "# Load checkpoint\n",
    "checkpoint = torch.load(\"/home/an/an_workplace/ICD/obdetect_icd/data/nanodet-plus-m_416.pth\", map_location=\"cpu\")\n",
    "model.load_state_dict(checkpoint[\"state_dict\"])\n",
    "model.eval()\n",
    "\n",
    "# Dummy input cho tracing\n",
    "example_input = torch.randn(1, 3, 416, 416)  # Thay đổi tùy theo model config\n",
    "traced_script_module = torch.jit.trace(model, example_input)\n",
    "traced_script_module.save(\"nanodet_model.pt\")\n",
    "\n",
    "print(\"✅ Đã xuất TorchScript model thành công.\")\n"
   ]
  }
 ],
 "metadata": {
  "kernelspec": {
   "display_name": "obdetect_env",
   "language": "python",
   "name": "python3"
  },
  "language_info": {
   "codemirror_mode": {
    "name": "ipython",
    "version": 3
   },
   "file_extension": ".py",
   "mimetype": "text/x-python",
   "name": "python",
   "nbconvert_exporter": "python",
   "pygments_lexer": "ipython3",
   "version": "3.8.20"
  }
 },
 "nbformat": 4,
 "nbformat_minor": 5
}
